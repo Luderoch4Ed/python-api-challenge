{
 "cells": [
  {
   "cell_type": "markdown",
   "metadata": {},
   "source": [
    "# WeatherPy\n",
    "----\n",
    "\n",
    "#### Note\n",
    "* Instructions have been included for each segment. You do not have to follow them exactly, but they are included to help you think through the steps."
   ]
  },
  {
   "cell_type": "code",
   "execution_count": null,
   "metadata": {
    "scrolled": true
   },
   "outputs": [],
   "source": [
    "# Dependencies and Setup\n",
    "import matplotlib.pyplot as plt\n",
    "import pandas as pd\n",
    "import numpy as np\n",
    "import requests\n",
    "import time\n",
    "import json\n",
    "from scipy.stats import linregress\n",
    "\n",
    "# Import API key\n",
    "from api_keys import weather_api_key\n",
    "\n",
    "# Incorporated citipy to determine city based on latitude and longitude\n",
    "from citipy import citipy\n",
    "\n",
    "# Output File (CSV)\n",
    "#output_data_file = \"output_data/cities.csv\"\n",
    "\n",
    "\n",
    "# Range of latitudes and longitudes\n",
    "lat_range = (-90, 90)\n",
    "lng_range = (-180, 180)"
   ]
  },
  {
   "cell_type": "markdown",
   "metadata": {},
   "source": [
    "## Generate Cities List"
   ]
  },
  {
   "cell_type": "code",
   "execution_count": null,
   "metadata": {},
   "outputs": [],
   "source": [
    "# List for holding lat_lngs and cities\n",
    "lat_lngs = []\n",
    "cities = []\n",
    "\n",
    "# Create a set of random lat and lng combinations\n",
    "lats = np.random.uniform(low=-90.000, high=90.000, size=1500)\n",
    "lngs = np.random.uniform(low=-180.000, high=180.000, size=1500)\n",
    "lat_lngs = zip(lats, lngs)\n",
    "\n",
    "# Identify nearest city for each lat, lng combination\n",
    "for lat_lng in lat_lngs:\n",
    "    city = citipy.nearest_city(lat_lng[0], lat_lng[1]).city_name\n",
    "    \n",
    "    # If the city is unique, then add it to a our cities list\n",
    "    if city not in cities:\n",
    "        cities.append(city)\n",
    "\n",
    "# Print the city count to confirm sufficient count\n",
    "len(cities)\n"
   ]
  },
  {
   "cell_type": "markdown",
   "metadata": {},
   "source": [
    "### Perform API Calls\n",
    "* Perform a weather check on each city using a series of successive API calls.\n",
    "* Include a print log of each city as it'sbeing processed (with the city number and city name).\n"
   ]
  },
  {
   "cell_type": "code",
   "execution_count": null,
   "metadata": {},
   "outputs": [],
   "source": [
    "# Save config information.\n",
    "url = \"http://api.openweathermap.org/data/2.5/weather?\"\n",
    "units = \"Imperial\"\n",
    "\n",
    "#created city short list to bypass API request limitation for development and testing of code\n",
    "#Will be disabled in final version\n",
    "#cities = [\"Paris\", \"London\", \"Oslo\", \"Beijing\", \"Dominica\", \"New York\", \"Chicago\", \"Los Angeles\", \\\n",
    "#         \"Miami\", \"San Francisco\", \"Philadelphia\", \"NotThere\"]\n",
    "\n",
    "# Build partial query URL\n",
    "weather_url = f\"{url}appid={weather_api_key}&units={units}&q=\"\n",
    "\n",
    "# set up lists to hold reponse info\n",
    "city_name = []\n",
    "cityid = []\n",
    "country = []\n",
    "lat = []\n",
    "long = []\n",
    "temp = []\n",
    "max_temp = []\n",
    "humidity = []\n",
    "wind = []\n",
    "cloud = []\n",
    "counter = 1\n",
    "\n",
    "#response = requests.get(weather_url + city).json()\n",
    "#response\n",
    "#print(json.dumps(response, indent=4, sort_keys=True))\n",
    "\n",
    "#Loop through the list of cities and perform a request for data on each\n",
    "for city in cities:\n",
    "   \n",
    "    \n",
    "    # Add a one second interval between queries to stay within API query limits\n",
    "    try:\n",
    "        response = requests.get(weather_url + city).json()\n",
    "        city_name.append(response['name'])\n",
    "        country.append(response['sys']['country'])\n",
    "        cityid.append(response['sys']['id'])\n",
    "        lat.append(response['coord']['lat'])\n",
    "        long.append(response['coord']['lon'])\n",
    "        temp.append(response['main']['temp'])\n",
    "        max_temp.append(response['main']['temp_max'])\n",
    "        humidity.append(response['main']['humidity'])\n",
    "        wind.append(response['wind']['speed'])\n",
    "        cloud.append(response['clouds']['all'])               \n",
    "        city_for_log = response['name'] \n",
    "        print(f\"city found {counter}| {city_for_log} \")   \n",
    "        counter = counter + 1\n",
    "    except:\n",
    "        print(f\"{city} data missing on weathermap will not be included\")\n",
    "    time.sleep(1.15) "
   ]
  },
  {
   "cell_type": "markdown",
   "metadata": {},
   "source": [
    "### Convert Raw Data to DataFrame\n",
    "* Export the city data into a .csv.\n",
    "* Display the DataFrame"
   ]
  },
  {
   "cell_type": "code",
   "execution_count": null,
   "metadata": {},
   "outputs": [],
   "source": [
    "weather_dict = {\"City\":city_name,\n",
    "    \"City ID\": cityid,\n",
    "    \"Country\":country,\n",
    "    \"Lat\":lat,\n",
    "    \"Long\":long,\n",
    "    \"Temp\":temp,\n",
    "    \"Max Temp\": max_temp,\n",
    "    \"Humidity\":humidity,\n",
    "    \"Wind Speed\":wind,\n",
    "    \"Cloud Cover\":cloud,}\n",
    "\n",
    "\n",
    "weather_df = pd.DataFrame.from_dict(weather_dict, orient='index')\n",
    "weather_df = weather_df.transpose()\n",
    "weather_df.dropna(inplace=True)\n",
    "weather_df.head(300)"
   ]
  },
  {
   "cell_type": "code",
   "execution_count": null,
   "metadata": {},
   "outputs": [],
   "source": [
    "weather_df.dropna(inplace=True)\n",
    "weather_df.head(300)"
   ]
  },
  {
   "cell_type": "code",
   "execution_count": null,
   "metadata": {},
   "outputs": [],
   "source": [
    "# Output File (CSV)\n",
    "output_data_file = \"output_data/cities.csv\"\n",
    "\n",
    "#city data into a .csv.\n",
    "weather_df.to_csv(output_data_file,index=False)"
   ]
  },
  {
   "cell_type": "code",
   "execution_count": null,
   "metadata": {},
   "outputs": [],
   "source": [
    "import datetime\n",
    "#Set current Date:\n",
    "today = datetime.datetime.today().strftime('%m/%d/%y')\n"
   ]
  },
  {
   "cell_type": "markdown",
   "metadata": {},
   "source": [
    "### Plotting the Data\n",
    "* Use proper labeling of the plots using plot titles (including date of analysis) and axes labels.\n",
    "* Save the plotted figures as .pngs."
   ]
  },
  {
   "cell_type": "markdown",
   "metadata": {},
   "source": [
    "#### Latitude vs. Temperature Plot"
   ]
  },
  {
   "cell_type": "code",
   "execution_count": null,
   "metadata": {
    "scrolled": true
   },
   "outputs": [],
   "source": [
    "#plt.imshow(img,origin='higher')\n",
    "plt.scatter(weather_df[\"Temp\"],weather_df[\"Lat\"],edgecolors=\"black\",facecolors=\"coral\",\n",
    "            alpha = 0.75,linewidth = 0.5)\n",
    "plt.show\n",
    "\n",
    "plt.title(f\"City: Latitude vs.Temperature (F) ({today})\", fontsize=14)\n",
    "plt.xlabel('Temperature (F)', fontsize=12)\n",
    "plt.ylabel('Latitude', fontsize=12)\n",
    "\n",
    "#defining size for the graph\n",
    "#fig_size = plt.rcParams[\"figure.figsize\"]\n",
    "#fig_size[0] = 10\n",
    "#fig_size[1] = 8.5\n",
    "#plt.rcParams[\"figure.figsize\"] = fig_size\n",
    "\n",
    "\n",
    "#save as a image\n",
    "plt.savefig(\"Images/City Latitude vs.Temperature (F).png\")\n",
    "plt.show()"
   ]
  },
  {
   "cell_type": "markdown",
   "metadata": {},
   "source": [
    "#### Latitude vs. Humidity Plot"
   ]
  },
  {
   "cell_type": "code",
   "execution_count": null,
   "metadata": {},
   "outputs": [],
   "source": [
    "plt.scatter(weather_df[\"Humidity\"],weather_df[\"Lat\"],edgecolors=\"black\",facecolors=\"coral\",\n",
    "            alpha = 0.75,linewidth = 0.5)\n",
    "plt.show\n",
    "\n",
    "plt.title(f\"City: Latitude vs. Humidity ({today})\", fontsize=14)\n",
    "plt.xlabel('Humidity', fontsize=12)\n",
    "plt.ylabel('Latitude', fontsize=12)\n",
    "\n",
    "#save as a image\n",
    "plt.savefig(\"Images/Humidity.png\")\n",
    "plt.show()"
   ]
  },
  {
   "cell_type": "markdown",
   "metadata": {},
   "source": [
    "#### Latitude vs. Cloudiness Plot"
   ]
  },
  {
   "cell_type": "code",
   "execution_count": null,
   "metadata": {},
   "outputs": [],
   "source": [
    "plt.scatter(weather_df[\"Cloud Cover\"],weather_df[\"Lat\"],edgecolors=\"black\",facecolors=\"coral\",\n",
    "            alpha = 0.75,linewidth = 0.5)\n",
    "\n",
    "plt.title(f\"City: Latitude vs. Cloudiness ({today})\", fontsize=14)\n",
    "plt.xlabel('Cloudiness', fontsize=14)\n",
    "plt.ylabel('Latitude', fontsize=14)\n",
    "\n",
    "#save as a image\n",
    "plt.savefig(\"Images/Cloudiness.png\")\n",
    "plt.show()"
   ]
  },
  {
   "cell_type": "markdown",
   "metadata": {},
   "source": [
    "#### Latitude vs. Wind Speed Plot"
   ]
  },
  {
   "cell_type": "code",
   "execution_count": null,
   "metadata": {},
   "outputs": [],
   "source": [
    "plt.scatter(weather_df[\"Wind Speed\"],weather_df[\"Lat\"],edgecolors=\"black\",facecolors=\"coral\",\n",
    "            alpha = 0.75,linewidth = 0.5)\n",
    "\n",
    "plt.title(f\"City: Latitude vs. Windspeed (mph) ({today})\", fontsize=14)\n",
    "plt.xlabel('Latitude', fontsize=14)\n",
    "plt.ylabel('Windspeed (mph)', fontsize=14)\n",
    "\n",
    "#save as a image\n",
    "plt.savefig(\"Images/Windspeed (mph).png\")\n",
    "plt.show()\n"
   ]
  },
  {
   "cell_type": "markdown",
   "metadata": {},
   "source": [
    "## Linear Regression"
   ]
  },
  {
   "cell_type": "code",
   "execution_count": null,
   "metadata": {},
   "outputs": [],
   "source": [
    "import scipy.stats as st"
   ]
  },
  {
   "cell_type": "code",
   "execution_count": null,
   "metadata": {},
   "outputs": [],
   "source": [
    "# OPTIONAL: Create a function to create Linear Regression plots\n",
    "def my_regline(x_values, y_values):\n",
    "    (slope, intercept, rvalue, pvalue, stderr) = linregress(x_values, y_values)\n",
    "    bestfit_values = x_values * slope + intercept\n",
    "    linear_eq = \"y = \" + str(round(slope,2)) + \"x + \" + str(round(intercept,2))"
   ]
  },
  {
   "cell_type": "code",
   "execution_count": null,
   "metadata": {},
   "outputs": [],
   "source": [
    "# Create Northern and Southern Hemisphere DataFrames\n",
    "northern_df = weather_df.loc[weather_df[\"Lat\"]>=0]\n",
    "northern_df['Lat'] = pd.to_numeric(northern_df['Lat'])\n",
    "northern_df['Long'] = pd.to_numeric(northern_df['Long'])\n",
    "northern_df['Temp'] = pd.to_numeric(northern_df['Temp'])\n",
    "northern_df['Max Temp'] = pd.to_numeric(northern_df['Max Temp'])\n",
    "northern_df['Humidity'] = pd.to_numeric(northern_df['Humidity'])\n",
    "northern_df['Wind Speed'] = pd.to_numeric(northern_df['Wind Speed'])\n",
    "northern_df['Cloud Cover'] = pd.to_numeric(northern_df['Cloud Cover'])\n",
    "\n",
    "\n",
    "southern_df = weather_df.loc[weather_df[\"Lat\"]<0]\n",
    "southern_df['Lat'] = pd.to_numeric(southern_df['Lat'])\n",
    "southern_df['Long'] = pd.to_numeric(southern_df['Long'])\n",
    "southern_df['Temp'] = pd.to_numeric(southern_df['Temp'])\n",
    "southern_df['Max Temp'] = pd.to_numeric(southern_df['Max Temp'])\n",
    "southern_df['Humidity'] = pd.to_numeric(southern_df['Humidity'])\n",
    "southern_df['Wind Speed'] = pd.to_numeric(southern_df['Wind Speed'])\n",
    "southern_df['Cloud Cover'] = pd.to_numeric(southern_df['Cloud Cover'])\n",
    "\n",
    "northern_df.head()\n",
    "\n",
    "northern_df.dtypes"
   ]
  },
  {
   "cell_type": "markdown",
   "metadata": {},
   "source": [
    "####  Northern Hemisphere - Max Temp vs. Latitude Linear Regression"
   ]
  },
  {
   "cell_type": "code",
   "execution_count": null,
   "metadata": {},
   "outputs": [],
   "source": [
    "x_values = northern_df['Max Temp']\n",
    "y_values = northern_df['Lat']\n",
    "(slope, intercept, rvalue, pvalue, stderr) = linregress(x_values, y_values)\n",
    "bestfit_values = x_values * slope + intercept\n",
    "linear_eq = \"y = \" + str(round(slope,2)) + \"x + \" + str(round(intercept,2))\n",
    "plt.title(f\"Northern Hemisphere: Latitude vs.Max Temperature (F) ({today})\", fontsize=12)\n",
    "plt.scatter(x_values,y_values)\n",
    "plt.plot(x_values,bestfit_values,\"r-\")\n",
    "plt.annotate(linear_eq,(6,10),fontsize=12,color=\"red\")\n",
    "plt.xlabel('Max Temp in Fahrenheit')\n",
    "plt.ylabel('Latitude)')\n",
    "# Print out the r-squared value along with the plot.\n",
    "print(f\"The r-squared is: {rvalue}\")\n",
    "plt.savefig('Northern Hemisphere - Max Temp vs. Latitude Linear Regression.jpeg')\n",
    "plt.show()"
   ]
  },
  {
   "cell_type": "markdown",
   "metadata": {},
   "source": [
    "####  Southern Hemisphere - Max Temp vs. Latitude Linear Regression"
   ]
  },
  {
   "cell_type": "code",
   "execution_count": null,
   "metadata": {},
   "outputs": [],
   "source": [
    "x_values = southern_df['Max Temp']\n",
    "y_values = southern_df['Lat']\n",
    "(slope, intercept, rvalue, pvalue, stderr) = linregress(x_values, y_values)\n",
    "bestfit_values = x_values * slope + intercept\n",
    "linear_eq = \"y = \" + str(round(slope,2)) + \"x + \" + str(round(intercept,2))\n",
    "plt.title(f\"Southern Hemisphere: Latitude vs.Max Temperature (F) ({today})\", fontsize=12)\n",
    "plt.scatter(x_values,y_values)\n",
    "plt.plot(x_values,bestfit_values,\"r-\")\n",
    "plt.annotate(linear_eq,(6,10),fontsize=12,color=\"red\")\n",
    "plt.xlabel('Max Temp in Fahrenheit')\n",
    "plt.ylabel('Latitude)')\n",
    "# Print out the r-squared value along with the plot.\n",
    "print(f\"The r-squared is: {rvalue}\")\n",
    "plt.savefig('Southern Hemisphere - Max Temp vs. Latitude Linear Regression.jpeg')\n",
    "plt.show()"
   ]
  },
  {
   "cell_type": "markdown",
   "metadata": {},
   "source": [
    "####  Northern Hemisphere - Humidity (%) vs. Latitude Linear Regression"
   ]
  },
  {
   "cell_type": "code",
   "execution_count": null,
   "metadata": {},
   "outputs": [],
   "source": [
    "x_values = northern_df['Humidity']\n",
    "y_values = northern_df['Lat']\n",
    "(slope, intercept, rvalue, pvalue, stderr) = linregress(x_values, y_values)\n",
    "bestfit_values = x_values * slope + intercept\n",
    "linear_eq = \"y = \" + str(round(slope,2)) + \"x + \" + str(round(intercept,2))\n",
    "plt.scatter(x_values,y_values)\n",
    "plt.plot(x_values,bestfit_values,\"r-\")\n",
    "plt.annotate(linear_eq,(6,10),fontsize=15,color=\"red\")\n",
    "plt.xlabel('Humidity %')\n",
    "plt.ylabel('Latitude)')\n",
    "# Print out the r-squared value along with the plot.\n",
    "print(f\"The r-squared is: {rvalue}\")\n",
    "plt.savefig('Northern Hemisphere - Humidity vs. Latitude Linear Regression.jpeg')\n",
    "plt.show()"
   ]
  },
  {
   "cell_type": "markdown",
   "metadata": {},
   "source": [
    "####  Southern Hemisphere - Humidity (%) vs. Latitude Linear Regression"
   ]
  },
  {
   "cell_type": "code",
   "execution_count": null,
   "metadata": {},
   "outputs": [],
   "source": [
    "x_values = southern_df['Humidity']\n",
    "y_values = southern_df['Lat']\n",
    "(slope, intercept, rvalue, pvalue, stderr) = linregress(x_values, y_values)\n",
    "bestfit_values = x_values * slope + intercept\n",
    "linear_eq = \"y = \" + str(round(slope,2)) + \"x + \" + str(round(intercept,2))\n",
    "plt.scatter(x_values,y_values)\n",
    "plt.plot(x_values,bestfit_values,\"r-\")\n",
    "plt.annotate(linear_eq,(6,10),fontsize=15,color=\"red\")\n",
    "plt.xlabel('Humidity %')\n",
    "plt.ylabel('Latitude)')\n",
    "# Print out the r-squared value along with the plot.\n",
    "print(f\"The r-squared is: {rvalue}\")\n",
    "plt.savefig('Southern Hemisphere - Humidity vs. Latitude Linear Regression.jpeg')\n",
    "plt.show()"
   ]
  },
  {
   "cell_type": "markdown",
   "metadata": {},
   "source": [
    "####  Northern Hemisphere - Cloudiness (%) vs. Latitude Linear Regression"
   ]
  },
  {
   "cell_type": "code",
   "execution_count": null,
   "metadata": {},
   "outputs": [],
   "source": [
    "x_values = northern_df['Cloud Cover']\n",
    "y_values = northern_df['Lat']\n",
    "(slope, intercept, rvalue, pvalue, stderr) = linregress(x_values, y_values)\n",
    "bestfit_values = x_values * slope + intercept\n",
    "linear_eq = \"y = \" + str(round(slope,2)) + \"x + \" + str(round(intercept,2))\n",
    "plt.scatter(x_values,y_values)\n",
    "plt.plot(x_values,bestfit_values,\"r-\")\n",
    "plt.annotate(linear_eq,(6,10),fontsize=15,color=\"red\")\n",
    "plt.xlabel('Cloud Cover')\n",
    "plt.ylabel('Latitude)')\n",
    "# Print out the r-squared value along with the plot.\n",
    "print(f\"The r-squared is: {rvalue}\")\n",
    "plt.savefig('Northern Hemisphere - Cloud Cover vs. Latitude Linear Regression.jpeg')\n",
    "plt.show()"
   ]
  },
  {
   "cell_type": "markdown",
   "metadata": {},
   "source": [
    "####  Southern Hemisphere - Cloudiness (%) vs. Latitude Linear Regression"
   ]
  },
  {
   "cell_type": "code",
   "execution_count": null,
   "metadata": {},
   "outputs": [],
   "source": [
    "x_values = southern_df['Cloud Cover']\n",
    "y_values = southern_df['Lat']\n",
    "(slope, intercept, rvalue, pvalue, stderr) = linregress(x_values, y_values)\n",
    "bestfit_values = x_values * slope + intercept\n",
    "linear_eq = \"y = \" + str(round(slope,2)) + \"x + \" + str(round(intercept,2))\n",
    "plt.scatter(x_values,y_values)\n",
    "plt.plot(x_values,bestfit_values,\"r-\")\n",
    "plt.annotate(linear_eq,(6,10),fontsize=15,color=\"red\")\n",
    "plt.xlabel('Cloud Cover')\n",
    "plt.ylabel('Latitude)')\n",
    "# Print out the r-squared value along with the plot.\n",
    "print(f\"The r-squared is: {rvalue}\")\n",
    "plt.savefig('Southern Hemisphere - Cloud Cover vs. Latitude Linear Regression.jpeg')\n",
    "plt.show()"
   ]
  },
  {
   "cell_type": "markdown",
   "metadata": {},
   "source": [
    "####  Northern Hemisphere - Wind Speed (mph) vs. Latitude Linear Regression"
   ]
  },
  {
   "cell_type": "code",
   "execution_count": null,
   "metadata": {},
   "outputs": [],
   "source": [
    "x_values = northern_df['Wind Speed']\n",
    "y_values = northern_df['Lat']\n",
    "(slope, intercept, rvalue, pvalue, stderr) = linregress(x_values, y_values)\n",
    "bestfit_values = x_values * slope + intercept\n",
    "linear_eq = \"y = \" + str(round(slope,2)) + \"x + \" + str(round(intercept,2))\n",
    "plt.scatter(x_values,y_values)\n",
    "plt.plot(x_values,bestfit_values,\"r-\")\n",
    "plt.annotate(linear_eq,(6,10),fontsize=15,color=\"red\")\n",
    "plt.xlabel('Wind Speed in MPH')\n",
    "plt.ylabel('Latitude)')\n",
    "# Print out the r-squared value along with the plot.\n",
    "print(f\"The r-squared is: {rvalue}\")\n",
    "plt.savefig('Northern Hemisphere - Wind Speed vs. Latitude Linear Regression.jpeg')\n",
    "plt.show()"
   ]
  },
  {
   "cell_type": "markdown",
   "metadata": {},
   "source": [
    "####  Southern Hemisphere - Wind Speed (mph) vs. Latitude Linear Regression"
   ]
  },
  {
   "cell_type": "code",
   "execution_count": null,
   "metadata": {},
   "outputs": [],
   "source": [
    "x_values = southern_df['Wind Speed']\n",
    "y_values = southern_df['Lat']\n",
    "(slope, intercept, rvalue, pvalue, stderr) = linregress(x_values, y_values)\n",
    "bestfit_values = x_values * slope + intercept\n",
    "linear_eq = \"y = \" + str(round(slope,2)) + \"x + \" + str(round(intercept,2))\n",
    "plt.scatter(x_values,y_values)\n",
    "plt.plot(x_values,bestfit_values,\"r-\")\n",
    "plt.annotate(linear_eq,(6,10),fontsize=15,color=\"red\")\n",
    "plt.xlabel('Wind Speed in MPH')\n",
    "plt.ylabel('Latitude)')\n",
    "# Print out the r-squared value along with the plot.\n",
    "print(f\"The r-squared is: {rvalue}\")\n",
    "plt.savefig('Southern Hemisphere - Wind Speed vs. Latitude Linear Regression.jpeg')\n",
    "plt.show()"
   ]
  },
  {
   "cell_type": "raw",
   "metadata": {},
   "source": []
  },
  {
   "cell_type": "code",
   "execution_count": null,
   "metadata": {},
   "outputs": [],
   "source": [
    "print(f\"It is clear from the plots that there is a strong correlation between temperation and proximity to the equator.\")\n",
    "print(f\"This is true for bother hemispheres. However, the relationship between latitude and the other data points\\\n",
    "(cloudiness, Humidity, and wind speed) is more random. Despite a lack of strong corelation, some of the data points\\\n",
    "revealed some interesting findings. Most of the humidity values fell between 40% - 90%. Wind speed was mostly in the\\\n",
    "13 mph or below, irrespective of proximity to the equator. This may indicate the normal range for these observations,\\\n",
    "however, too premature to conclude.\")"
   ]
  }
 ],
 "metadata": {
  "anaconda-cloud": {},
  "kernel_info": {
   "name": "python3"
  },
  "kernelspec": {
   "display_name": "Python 3",
   "language": "python",
   "name": "python3"
  },
  "language_info": {
   "codemirror_mode": {
    "name": "ipython",
    "version": 3
   },
   "file_extension": ".py",
   "mimetype": "text/x-python",
   "name": "python",
   "nbconvert_exporter": "python",
   "pygments_lexer": "ipython3",
   "version": "3.7.4"
  },
  "latex_envs": {
   "LaTeX_envs_menu_present": true,
   "autoclose": false,
   "autocomplete": true,
   "bibliofile": "biblio.bib",
   "cite_by": "apalike",
   "current_citInitial": 1,
   "eqLabelWithNumbers": true,
   "eqNumInitial": 1,
   "hotkeys": {
    "equation": "Ctrl-E",
    "itemize": "Ctrl-I"
   },
   "labels_anchors": false,
   "latex_user_defs": false,
   "report_style_numbering": false,
   "user_envs_cfg": false
  },
  "nteract": {
   "version": "0.12.3"
  }
 },
 "nbformat": 4,
 "nbformat_minor": 2
}
